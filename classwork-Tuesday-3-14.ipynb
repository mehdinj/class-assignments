{
 "cells": [
  {
   "cell_type": "markdown",
   "metadata": {},
   "source": [
    "## 09:30 Kelsey Jiang:<br>\n",
    "What are some of the biological inferences you've found in your results?\n",
    "<br><br>\n",
    "## 09:34 Dominique Castro:<br>\n",
    "What did you mean by the fossils that were not identified?\n",
    "what did you find in your results?\n",
    "<br><br>\n",
    "## 09:38 Linna Sun:<br>\n",
    "what was the time graph you showed indicating?\n",
    "<br><br>\n",
    "## 09:42 Ashen Parikh:<br>\n",
    "what is the coopreation score a measure of?\n",
    "<br><br>\n",
    "## 09:46 Matthew Muia:<br>\n",
    "what is bootstrapping test?\n",
    "why did you acount for residuals?\n",
    "<br><br>\n",
    "## 09:50 Antonella Gonzalez:<br>\n",
    "what did temperature indicated in your data?\n",
    "<br><br>\n",
    "## 09:54 Yee Chau:<br>\n",
    "what does post vs pre era graph indicate?\n",
    "<br><br>\n",
    "## 09:58 Kristen Lee:<br>\n",
    "why do you think there was a movement toward North?\n",
    "<br><br>\n",
    "## 10:02 Madison Downing:<br>\n",
    "what does the interaction between mammals and birds indicate?\n",
    "\n",
    "<br><br>\n",
    "## 10:06 Youstina Salama:<br>\n",
    "what do you think richness increased towards recent?\n",
    "\n",
    "<br><br>\n",
    "## 10:10 Jeremy Wadowski:<br>\n",
    "if everyone's file was different, how did you match all together?\n",
    "\n",
    "<br><br>\n",
    "## 10:14 Mehdi Nojoumi:<br>\n",
    "My presentation!\n",
    "\n",
    "<br><br>\n",
    "## 10:18 Junghoon Kim:<br>\n",
    "how did infer that german cockroaches are more active at night ?\n",
    "<br><br>\n",
    "## 10:22 Dustin Wong:<br>\n",
    "why did you have so many species with very small ranges in for fossil occurances?\n",
    "\n",
    "<br><br>\n",
    "## 10:26 Hyein Kil:<br>\n",
    "what do you hypothesize, the speciation or extinction rate would look like?"
   ]
  },
  {
   "cell_type": "code",
   "execution_count": null,
   "metadata": {
    "collapsed": true
   },
   "outputs": [],
   "source": []
  }
 ],
 "metadata": {
  "anaconda-cloud": {},
  "kernelspec": {
   "display_name": "Python [default]",
   "language": "python",
   "name": "python3"
  },
  "language_info": {
   "codemirror_mode": {
    "name": "ipython",
    "version": 3
   },
   "file_extension": ".py",
   "mimetype": "text/x-python",
   "name": "python",
   "nbconvert_exporter": "python",
   "pygments_lexer": "ipython3",
   "version": "3.5.2"
  }
 },
 "nbformat": 4,
 "nbformat_minor": 2
}
