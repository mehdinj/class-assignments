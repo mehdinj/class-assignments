{
 "cells": [
  {
   "cell_type": "code",
   "execution_count": 5,
   "metadata": {
    "collapsed": false
   },
   "outputs": [
    {
     "data": {
      "text/plain": [
       "'ggtct'"
      ]
     },
     "execution_count": 5,
     "metadata": {},
     "output_type": "execute_result"
    }
   ],
   "source": [
    "seq  = \"ATCTTCT\"\n",
    "seq2 = \"GGTCT\"\n",
    "\n",
    "seq= seq.replace(\"A\",\"a\")\n",
    "seq= seq.replace(\"T\",\"t\")\n",
    "seq2= seq2.replace(\"T\",\"t\")\n",
    "seq\n",
    "seq2\n",
    "\n",
    "seq.lower()\n",
    "seq2.lower()"
   ]
  },
  {
   "cell_type": "code",
   "execution_count": 9,
   "metadata": {
    "collapsed": false
   },
   "outputs": [
    {
     "name": "stdout",
     "output_type": "stream",
     "text": [
      "Welcome!\n",
      "this dunction takes no arguments\n"
     ]
    }
   ],
   "source": [
    "def greeter():\n",
    "    print(\"Welcome!\")\n",
    "    print(\"this dunction takes no arguments\")\n",
    "greeter()"
   ]
  },
  {
   "cell_type": "code",
   "execution_count": 15,
   "metadata": {
    "collapsed": false
   },
   "outputs": [],
   "source": [
    "def stringanlayzer(ss):\n",
    "    length=len(ss)\n",
    "    yy=26\n",
    "    zz=yy+length \n",
    "    print(\"this string has {} charchters\".format(length))\n",
    "    return zz\n"
   ]
  },
  {
   "cell_type": "code",
   "execution_count": 16,
   "metadata": {
    "collapsed": false
   },
   "outputs": [
    {
     "name": "stdout",
     "output_type": "stream",
     "text": [
      "this string has 5 charchters\n"
     ]
    },
    {
     "data": {
      "text/plain": [
       "31"
      ]
     },
     "execution_count": 16,
     "metadata": {},
     "output_type": "execute_result"
    }
   ],
   "source": [
    "stringanlayzer(\"hello\")"
   ]
  },
  {
   "cell_type": "code",
   "execution_count": 53,
   "metadata": {
    "collapsed": true
   },
   "outputs": [],
   "source": [
    "\n",
    "def get_at_content(dna):\n",
    "    #dna=dna.upper()\n",
    "    length=len(dna)\n",
    "    a_count=dna.upper().count(\"A\")\n",
    "    t_count=dna.upper().count(\"T\")\n",
    "    at_content=(a_count+t_count)/length\n",
    "    return round(at_content,2)"
   ]
  },
  {
   "cell_type": "code",
   "execution_count": 54,
   "metadata": {
    "collapsed": false
   },
   "outputs": [
    {
     "data": {
      "text/plain": [
       "0.52"
      ]
     },
     "execution_count": 54,
     "metadata": {},
     "output_type": "execute_result"
    }
   ],
   "source": [
    "get_at_content(\"ATGCATGCAACTGTAGC\")\n",
    "get_at_content(\"aactgtagctagctagcagcgta\")"
   ]
  },
  {
   "cell_type": "code",
   "execution_count": 52,
   "metadata": {
    "collapsed": false
   },
   "outputs": [
    {
     "data": {
      "text/plain": [
       "dict_items([('A', 5), ('G', 4), ('T', 4), ('C', 4)])"
      ]
     },
     "execution_count": 52,
     "metadata": {},
     "output_type": "execute_result"
    }
   ],
   "source": [
    "def base_counter(dna):\n",
    "    #dna=dna.upper()\n",
    "    my={}    \n",
    "    for i in [\"A\",\"T\",\"C\",\"G\"]: #OR \"ATCG\"\n",
    "        count= dna.upper().count(i)\n",
    "\n",
    "    \n",
    "        #print(i+\"=\"+str(count))\n",
    "        \n",
    "        my[i]=count\n",
    "    return my\n",
    "        \n",
    "\n",
    "    \n",
    "dd=base_counter(\"ATGCATGCAACTGTAGC\")\n",
    "dd.items()"
   ]
  },
  {
   "cell_type": "code",
   "execution_count": 83,
   "metadata": {
    "collapsed": true
   },
   "outputs": [],
   "source": [
    "\n",
    "def get_at_content(dna):\n",
    "    #dna=dna.upper()\n",
    "    #dnalist=[]\n",
    "    length=len(dna)\n",
    "    a_count=dna.upper().count(\"A\")\n",
    "    t_count=dna.upper().count(\"T\")\n",
    "    at_content=round((a_count+t_count)/length,2)\n",
    "#     dnalist.append(length)\n",
    "#     dnalist.append(a_count)\n",
    "#     dnalist.append(t_count)\n",
    "#     dnalist.append(at_content)\n",
    "    dnalist=[length, a_count, t_count, at_content]\n",
    "    return dnalist\n",
    "    "
   ]
  },
  {
   "cell_type": "code",
   "execution_count": 84,
   "metadata": {
    "collapsed": false
   },
   "outputs": [
    {
     "data": {
      "text/plain": [
       "0.52"
      ]
     },
     "execution_count": 84,
     "metadata": {},
     "output_type": "execute_result"
    }
   ],
   "source": [
    "get_at_content(\"ATGCATGCAACTGTAGC\")\n",
    "res= get_at_content(\"aactgtagctagctagcagcgta\")\n",
    "res[-1]"
   ]
  },
  {
   "cell_type": "code",
   "execution_count": 89,
   "metadata": {
    "collapsed": false
   },
   "outputs": [],
   "source": [
    "def get_at_content(dna, sigfigs=2):\n",
    "    \n",
    "    length=len(dna)\n",
    "    a_count=dna.upper().count(\"A\")\n",
    "    t_count=dna.upper().count(\"T\")\n",
    "    at_content=(a_count+t_count)/length\n",
    "    return round(at_content,sigfigs)\n",
    "\n"
   ]
  },
  {
   "cell_type": "code",
   "execution_count": 90,
   "metadata": {
    "collapsed": false
   },
   "outputs": [
    {
     "data": {
      "text/plain": [
       "0.5294"
      ]
     },
     "execution_count": 90,
     "metadata": {},
     "output_type": "execute_result"
    }
   ],
   "source": [
    "get_at_content(\"ATGCATGCAACTGTAGC\", 4)"
   ]
  },
  {
   "cell_type": "code",
   "execution_count": null,
   "metadata": {
    "collapsed": true
   },
   "outputs": [],
   "source": []
  }
 ],
 "metadata": {
  "anaconda-cloud": {},
  "kernelspec": {
   "display_name": "Python [default]",
   "language": "python",
   "name": "python3"
  },
  "language_info": {
   "codemirror_mode": {
    "name": "ipython",
    "version": 3
   },
   "file_extension": ".py",
   "mimetype": "text/x-python",
   "name": "python",
   "nbconvert_exporter": "python",
   "pygments_lexer": "ipython3",
   "version": "3.5.2"
  }
 },
 "nbformat": 4,
 "nbformat_minor": 2
}
