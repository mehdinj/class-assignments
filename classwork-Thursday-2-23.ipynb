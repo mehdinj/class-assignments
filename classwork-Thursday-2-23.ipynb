{
 "cells": [
  {
   "cell_type": "code",
   "execution_count": 12,
   "metadata": {
    "collapsed": false
   },
   "outputs": [],
   "source": [
    "\n",
    "\n",
    "import urllib\n",
    "import urllib.request\n",
    "\n",
    "from bs4 import BeautifulSoup\n",
    "\n"
   ]
  },
  {
   "cell_type": "code",
   "execution_count": 13,
   "metadata": {
    "collapsed": false
   },
   "outputs": [],
   "source": [
    "family_url = \"http://fishbase.org/Nomenclature/NominalSpeciesList.php?Family=Engraulidae\"\n",
    "\n"
   ]
  },
  {
   "cell_type": "code",
   "execution_count": 15,
   "metadata": {
    "collapsed": false
   },
   "outputs": [],
   "source": [
    "html = urllib.request.urlopen(family_url)\n",
    "html_doc = html.read()\n",
    "html.close()\n",
    "\n"
   ]
  },
  {
   "cell_type": "code",
   "execution_count": 17,
   "metadata": {
    "collapsed": false,
    "scrolled": true
   },
   "outputs": [
    {
     "name": "stderr",
     "output_type": "stream",
     "text": [
      "/home/eeb177-student/miniconda3/lib/python3.5/site-packages/bs4/__init__.py:181: UserWarning: No parser was explicitly specified, so I'm using the best available HTML parser for this system (\"html.parser\"). This usually isn't a problem, but if you run this code on another system, or in a different virtual environment, it may use a different parser and behave differently.\n",
      "\n",
      "The code that caused this warning is on line 184 of the file /home/eeb177-student/miniconda3/lib/python3.5/runpy.py. To get rid of this warning, change code that looks like this:\n",
      "\n",
      " BeautifulSoup([your markup])\n",
      "\n",
      "to this:\n",
      "\n",
      " BeautifulSoup([your markup], \"html.parser\")\n",
      "\n",
      "  markup_type=markup_type))\n"
     ]
    }
   ],
   "source": [
    "soup = BeautifulSoup(html_doc)\n",
    "\n"
   ]
  },
  {
   "cell_type": "code",
   "execution_count": 23,
   "metadata": {
    "collapsed": true
   },
   "outputs": [],
   "source": [
    "links = soup.find_all(\"a\")\n"
   ]
  },
  {
   "cell_type": "code",
   "execution_count": 24,
   "metadata": {
    "collapsed": true
   },
   "outputs": [],
   "source": [
    "for link in links:\n",
    "\n",
    "        italics = link.find_all(\"i\")\n",
    "\n"
   ]
  },
  {
   "cell_type": "code",
   "execution_count": 25,
   "metadata": {
    "collapsed": false
   },
   "outputs": [],
   "source": [
    "for italic in italics:\n",
    "            print (italic.string)\n",
    "\n",
    "\n",
    "\n"
   ]
  },
  {
   "cell_type": "code",
   "execution_count": 27,
   "metadata": {
    "collapsed": false
   },
   "outputs": [
    {
     "name": "stdout",
     "output_type": "stream",
     "text": [
      "Limnocottus bergianus\n",
      "Cottinella boulengeri\n",
      "Abyssocottus elochini\n",
      "Abyssocottus gibbosus\n",
      "Abyssocottus gibbosus\n",
      "Limnocottus godlewskii\n",
      "Limnocottus godlewskii\n",
      "Limnocottus griseus\n",
      "Procottus gotoi\n",
      "Procottus gurwicii\n",
      "Asprocottus herzensteini\n",
      "Asprocottus abyssalis\n",
      "Asprocottus intermedius\n",
      "Asprocottus parmiferus\n",
      "Asprocottus platycephalus\n",
      "Procottus jeittelesii\n",
      "Procottus major\n",
      "Procottus gurwicii\n",
      "Procottus jeittelesii\n",
      "Asprocottus korjakovi\n",
      "Asprocottus minor\n",
      "Abyssocottus korotneffi\n",
      "Cyphocottus megalops\n",
      "Cyphocottus megalops\n",
      "Cyphocottus eurystomus\n",
      "Limnocottus pallidus\n",
      "Asprocottus pulcher\n",
      "Neocottus thermalis\n",
      "Neocottus werestschagini\n"
     ]
    },
    {
     "name": "stderr",
     "output_type": "stream",
     "text": [
      "/home/eeb177-student/miniconda3/lib/python3.5/site-packages/bs4/__init__.py:181: UserWarning: No parser was explicitly specified, so I'm using the best available HTML parser for this system (\"html.parser\"). This usually isn't a problem, but if you run this code on another system, or in a different virtual environment, it may use a different parser and behave differently.\n",
      "\n",
      "The code that caused this warning is on line 184 of the file /home/eeb177-student/miniconda3/lib/python3.5/runpy.py. To get rid of this warning, change code that looks like this:\n",
      "\n",
      " BeautifulSoup([your markup])\n",
      "\n",
      "to this:\n",
      "\n",
      " BeautifulSoup([your markup], \"html.parser\")\n",
      "\n",
      "  markup_type=markup_type))\n"
     ]
    }
   ],
   "source": [
    "import urllib\n",
    "from bs4 import BeautifulSoup\n",
    "\n",
    "family_url = \"http://www.fishbase.org/Nomenclature/NominalSpeciesList.php?family=Abyssocottidae\"\n",
    "# some students will have used this page instead. the code works for both\n",
    "# family_url = \"http://www.fishbase.us/identification/specieslist.php?famcode=584\"\n",
    "\n",
    "html = urllib.request.urlopen(family_url)\n",
    "html_doc = html.read()\n",
    "\n",
    "soup = BeautifulSoup(html_doc)\n",
    "\n",
    "# find all links\n",
    "links = soup.find_all(\"a\")\n",
    "for link in links:\n",
    "    # find all italic tags within each link\n",
    "    italics = link.find_all(\"i\")\n",
    "    for italic in italics:\n",
    "        # this should be the species name\n",
    "        print (italic.string)\n"
   ]
  },
  {
   "cell_type": "code",
   "execution_count": 41,
   "metadata": {
    "collapsed": false
   },
   "outputs": [],
   "source": [
    "import urllib.request\n",
    "import json\n",
    "\n",
    "api_url = \"https://fishbase.ropensci.org/species/?genus=Platichthys&species=stellatus\"\n",
    "\n",
    "raw_json = urllib.request.urlopen(api_url)\n",
    "decoded_jason = raw_json.read().decode('utf-8')\n",
    "parsed_json = json.loads(decoded_jason) ## we use the json.load method directly\n",
    "raw_json.close()\n",
    "\n"
   ]
  },
  {
   "cell_type": "code",
   "execution_count": null,
   "metadata": {
    "collapsed": true
   },
   "outputs": [],
   "source": []
  }
 ],
 "metadata": {
  "anaconda-cloud": {},
  "kernelspec": {
   "display_name": "Python [default]",
   "language": "python",
   "name": "python3"
  },
  "language_info": {
   "codemirror_mode": {
    "name": "ipython",
    "version": 3
   },
   "file_extension": ".py",
   "mimetype": "text/x-python",
   "name": "python",
   "nbconvert_exporter": "python",
   "pygments_lexer": "ipython3",
   "version": "3.5.2"
  }
 },
 "nbformat": 4,
 "nbformat_minor": 2
}
