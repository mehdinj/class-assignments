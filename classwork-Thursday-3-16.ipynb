{
 "cells": [
  {
   "cell_type": "markdown",
   "metadata": {},
   "source": [
    "# Lightning Talk Schedule for Thursday, March 16th <br>\n",
    "\n",
    "09:30 Aditya Kantawala <br>\n",
    "\n",
    "what did the sudden jump in extinction rate suggest?\n",
    "\n",
    "<br><br>\n",
    "09:34 Justin Shieh<br>\n",
    "\n",
    "how would you test whether bigger brain sizes leads to better survival?\n",
    "\n",
    "<br><br>\n",
    "09:38 Sarah Kim<br>\n",
    "\n",
    "how glaciation promotes spciation in your canis family?\n",
    "\n",
    "<br><br>\n",
    "09:42 Christina Zhou<br>\n",
    "\n",
    "whhy is there an increase in speciation rate in recent times for bats?\n",
    "\n",
    "<br><br>\n",
    "09:46 Gayane Hovsepyan<br>\n",
    "\n",
    "why is there a gap in diognosis of autism?\n",
    "\n",
    "<br><br>\n",
    "09:50 Roxana Nojoumi<br>\n",
    "\n",
    "why is there an increase in teath measurement?\n",
    "\n",
    "<br><br>\n",
    "09:54 Cooper Kass<br>\n",
    "how far do you think invasive species travel in your case?\n",
    "\n",
    "<br><br>\n",
    "09:58 Jeffrey Lee<br>\n",
    "what did you find for the correlation between extinction rate and speciation rate of the two groups you have looked into?\n",
    "\n",
    "<br><br>\n",
    "10:02 Laura Trejo<br>\n",
    "why there is more speciation in Devonian?\n",
    "\n",
    "<br><br>\n",
    "10:06 Jin Kim<br>\n",
    "Is there a relationship between the two longest range species you've found?\n",
    "\n",
    "<br><br>\n",
    "10:10 Marina Salama<br>\n",
    "do you see a spike in extinction rate due to the recent disease of frogs?\n",
    "\n",
    "<br><br>\n",
    "10:14 Erin Solis\n",
    "why is there a jump in extinction rate?\n",
    "\n",
    "<br><br>\n",
    "10:18 Sean Mathew<br>\n",
    "why there is no spike in speciation rate in pyrate data for late miocene radiation?\n",
    "\n",
    "<br><br>\n",
    "10:22 Tiffany Dang<br>\n",
    "what is the reason behind the recent increase in extinction rate?\n",
    "\n"
   ]
  },
  {
   "cell_type": "code",
   "execution_count": null,
   "metadata": {
    "collapsed": true
   },
   "outputs": [],
   "source": []
  }
 ],
 "metadata": {
  "anaconda-cloud": {},
  "kernelspec": {
   "display_name": "Python [default]",
   "language": "python",
   "name": "python3"
  },
  "language_info": {
   "codemirror_mode": {
    "name": "ipython",
    "version": 3
   },
   "file_extension": ".py",
   "mimetype": "text/x-python",
   "name": "python",
   "nbconvert_exporter": "python",
   "pygments_lexer": "ipython3",
   "version": "3.5.2"
  }
 },
 "nbformat": 4,
 "nbformat_minor": 2
}
