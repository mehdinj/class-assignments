{
 "cells": [
  {
   "cell_type": "code",
   "execution_count": 10,
   "metadata": {
    "collapsed": false
   },
   "outputs": [],
   "source": [
    "my_file= open(\"pbdb_data.csv\", encoding = \"ISO-8859-15\")\n",
    "my_line= my_file.readlines()[18:]\n",
    "output= open(\"cleaned-canids.csv\",\"w\")\n",
    "\n",
    "for line in my_line:\n",
    "    output.write(line)"
   ]
  },
  {
   "cell_type": "code",
   "execution_count": 42,
   "metadata": {
    "collapsed": false
   },
   "outputs": [],
   "source": [
    "#use defaultdict\n",
    "from collections import defaultdict\n",
    "\n",
    "species_ranges=defaultdict(list)\n",
    "\n",
    "file_object= open(\"cleaned-canids.csv\", encoding = \"ISO-8859-15\")\n",
    "\n",
    "my_lines= file_object.readlines()\n",
    "\n",
    "output= open(\"canids-ranges.csv\", \"w\")\n",
    "\n",
    "\n",
    "import csv\n",
    "import sys\n",
    "import re\n",
    "\n",
    "for line in my_lines:\n",
    "\n",
    "    line=line.replace('\"','')\n",
    "    line=line.replace(\"'\",\"\")\n",
    "    \n",
    "    species_name=line.split(\",\")[5]\n",
    "    genus_family=line.split(\",\")[6]\n",
    "    max_int= line.split(\",\")[10]\n",
    "    min_int= line.split(\",\")[11]\n",
    "    \n",
    "    mean_age = ((float(max_int))+(float(min_int))/2)\n",
    "    \n",
    "    \n",
    "    species_ranges[species_name].append(mean_age)# add species as keys and mean ages as elements of that species\n",
    "\n",
    "for keys in species_ranges.keys():\n",
    "    \n",
    "    ages= species_ranges[keys]\n",
    "    minage= min(ages)\n",
    "    maxage= max(ages)\n",
    "    genus= keys.split(\" \")[0]\n",
    "    \n",
    "  \n",
    "    \n",
    "    output.write(genus+ \",\" + keys + \",\" + str(minage) + \",\" + str(maxage) + \"\\n\" )\n",
    "    \n",
    "\n",
    "    "
   ]
  },
  {
   "cell_type": "code",
   "execution_count": null,
   "metadata": {
    "collapsed": false
   },
   "outputs": [],
   "source": [
    "\n",
    "\n",
    "\n"
   ]
  },
  {
   "cell_type": "code",
   "execution_count": null,
   "metadata": {
    "collapsed": true
   },
   "outputs": [],
   "source": []
  }
 ],
 "metadata": {
  "anaconda-cloud": {},
  "kernelspec": {
   "display_name": "Python [default]",
   "language": "python",
   "name": "python3"
  },
  "language_info": {
   "codemirror_mode": {
    "name": "ipython",
    "version": 3
   },
   "file_extension": ".py",
   "mimetype": "text/x-python",
   "name": "python",
   "nbconvert_exporter": "python",
   "pygments_lexer": "ipython3",
   "version": "3.5.2"
  }
 },
 "nbformat": 4,
 "nbformat_minor": 2
}
