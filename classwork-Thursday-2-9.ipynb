{
 "cells": [
  {
   "cell_type": "code",
   "execution_count": 4,
   "metadata": {
    "collapsed": false
   },
   "outputs": [
    {
     "name": "stdout",
     "output_type": "stream",
     "text": [
      "Homo is an ape\n",
      "Pan is an ape\n",
      "Gorilla is an ape\n",
      "Homo is an ape\n",
      "Pan is an ape\n",
      "Gorilla is an ape\n"
     ]
    }
   ],
   "source": [
    "apes=[\"Homo\",\"Pan\",\"Gorilla\"]\n",
    "for name in apes:\n",
    "    print(name+\" is an ape\")\n",
    "    \n",
    "#OR\n",
    "\n",
    "for i in range(len(apes)):\n",
    "    print(apes[i] +\" is an ape\")"
   ]
  },
  {
   "cell_type": "code",
   "execution_count": 12,
   "metadata": {
    "collapsed": false
   },
   "outputs": [
    {
     "name": "stdout",
     "output_type": "stream",
     "text": [
      "2\n",
      "6\n",
      "10\n"
     ]
    }
   ],
   "source": [
    "for number in range(2,14, 4):\n",
    "    print(number)"
   ]
  },
  {
   "cell_type": "code",
   "execution_count": 11,
   "metadata": {
    "collapsed": false
   },
   "outputs": [
    {
     "name": "stdout",
     "output_type": "stream",
     "text": [
      "1\n",
      "2\n",
      "3\n",
      "4\n",
      "5\n",
      "6\n",
      "7\n",
      "8\n",
      "9\n"
     ]
    }
   ],
   "source": [
    "count=1\n",
    "while count<10:\n",
    "    print(count)\n",
    "    count=count+1\n",
    "    "
   ]
  },
  {
   "cell_type": "markdown",
   "metadata": {
    "collapsed": true
   },
   "source": [
    "# Class Challenge\n",
    "\n",
    "I used wget to download the file:\n",
    "\n",
    "wget http://www.nature.com/nature/journal/vaop/ncurrent/source_data/nature21074-f1.csv"
   ]
  },
  {
   "cell_type": "markdown",
   "metadata": {},
   "source": [
    "** in order to format the nature file to text file**\n",
    "\n",
    "cat nature21074-f1.csv | tr \"\\r\" \"\\n\" > formatted.nature.csv\n",
    "\n",
    "**to extarct the families and count number of uniqe families**\n",
    "\n",
    "tail -n +3 formatted.nature.csv| cut -d \",\" -f 3| sort |uniq| wc -l\n",
    "Answer: 195 uniq families\n",
    "\n",
    "** to find the family with the most number of species represented**\n",
    "\n",
    "tail -n +3 formatted.nature.csv| cut -d \",\" -f 3| sort |uniq -c | sort -n\n",
    "\n",
    "Answer:  102 Trochilidae are the most represented family.\n",
    "\n",
    "\n",
    "** to find families that have one species reprensented** \n",
    "\n",
    "tail -n +3 formatted.nature.csv| cut -d \",\" -f 3| sort |uniq -c | sort -n | grep \"1\" -wn |wc -l\n",
    "\n",
    "Answer: 61\n",
    "\n"
   ]
  },
  {
   "cell_type": "code",
   "execution_count": null,
   "metadata": {
    "collapsed": true
   },
   "outputs": [],
   "source": []
  }
 ],
 "metadata": {
  "anaconda-cloud": {},
  "kernelspec": {
   "display_name": "Python [default]",
   "language": "python",
   "name": "python3"
  },
  "language_info": {
   "codemirror_mode": {
    "name": "ipython",
    "version": 3
   },
   "file_extension": ".py",
   "mimetype": "text/x-python",
   "name": "python",
   "nbconvert_exporter": "python",
   "pygments_lexer": "ipython3",
   "version": "3.5.2"
  }
 },
 "nbformat": 4,
 "nbformat_minor": 2
}
