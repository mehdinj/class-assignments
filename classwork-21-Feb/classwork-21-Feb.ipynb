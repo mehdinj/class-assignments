{
 "cells": [
  {
   "cell_type": "markdown",
   "metadata": {},
   "source": [
    "# In  class exercise:\n",
    "we used following command to download the data:\n",
    "wget http://ctfs.si.edu/webatlas/datasets/cocoli/cocoli.zip \n",
    "\n",
    "we unzipped the file using this command:\n",
    "unzip cocoli.zip\n",
    "\n",
    "cocoli_files.doc file shows general description of other files in the directory.\n",
    "\n",
    "\n",
    "mult1.txt , mult2.txt and mult3.txt   has the id of each individual along with their diameter measurments of each stem at 1.3m at that particular measurement.\n",
    "\n",
    "\n",
    "cocoli.txt has the tag id of each individual, species code, x,y coordinate and diameter of the biggest stem of that individual in different measurements\n",
    "\n",
    "cocolisp.txt has the species code along with genus, species and family for each species code.\n",
    "\n",
    "\n",
    "\n",
    "\n",
    "\n",
    "\n"
   ]
  },
  {
   "cell_type": "markdown",
   "metadata": {},
   "source": [
    "***Each row in the cocoli.txt represents an indivudal tree. it has id tag, species code, x,y coordinate, diameter in different measurements, and the date of each measurement.***\n",
    "\n",
    "***Each row in cocolisp.txt represents a species code, and it shows the genus, species and the family of each species code***"
   ]
  },
  {
   "cell_type": "markdown",
   "metadata": {},
   "source": [
    "multi 2 refers to diamter of all of stems the plant has at 1.3m during the second measurement (11/11/1997).\n",
    "\n",
    "dbh2 refers to dimater of individual 11 (in mm) during the second measurement\n",
    "\n",
    "we can use grep CAL2CA cocolisp.txt  to find the species and genus and family of individual 11:\n",
    "\n",
    "grep CAL2CA cocolisp.txt :\n",
    "\n",
    "CAL2CA\tCalycophyllum\tcandidissimum\tRubiaceae\n"
   ]
  },
  {
   "cell_type": "markdown",
   "metadata": {},
   "source": [
    "indivudal 000001 was growing between the measurements because measurements increased \n",
    "\n",
    "invidual 000029 died beginning on second (and third) measurements because measurements indicate -1"
   ]
  },
  {
   "cell_type": "markdown",
   "metadata": {},
   "source": [
    "we might wanna see if in general trees are growing or shrinking, is there pattern to it?\n",
    "\n",
    "what is the rate of the growth of all trees in the database?\n",
    "\n",
    "which species has the highest rate of growth in the community?\n",
    "\n",
    "we might wanna check if the growth of individual trees are related to their location, for example, if some area has the trees with higher rate of growth."
   ]
  },
  {
   "cell_type": "markdown",
   "metadata": {},
   "source": [
    "we can find the most species rich genus in the cocolisp.txt file using the following command:\n",
    "\n",
    "***sed 's/\\s/,/g' cocolisp.txt | cut -d \",\" -f 2 | uniq -c | sort -n***\n",
    "\n",
    "answer:  7 Piper\n",
    "\n",
    "we can use the following command to find the number of generas that has one species represented\n",
    "\n",
    "***sed 's/\\s/,/g' cocolisp.txt | cut -d \",\" -f 2 | sort |uniq -c | sort -n | grep -w 1 | wc -l***\n",
    "\n",
    "answer: 99"
   ]
  },
  {
   "cell_type": "markdown",
   "metadata": {},
   "source": [
    "*1- first we have to open the cocoli.txt*\n",
    "\n",
    "*2- read the text file *\n",
    "\n",
    "*3- we then ireterate over each line and use .split(\" \") to split the line into a list (for each individual line) *\n",
    "\n",
    "*4- difference between   list [5] - list [3]  \\  list [3]   will give the difference relative growth for each individual line*\n",
    " \n",
    "*5- make a dictionary with keys list [0] and value of   list [5] - list [3]  \\   list[3] *"
   ]
  },
  {
   "cell_type": "code",
   "execution_count": null,
   "metadata": {
    "collapsed": true
   },
   "outputs": [],
   "source": []
  }
 ],
 "metadata": {
  "anaconda-cloud": {},
  "kernelspec": {
   "display_name": "Python [default]",
   "language": "python",
   "name": "python3"
  },
  "language_info": {
   "codemirror_mode": {
    "name": "ipython",
    "version": 3
   },
   "file_extension": ".py",
   "mimetype": "text/x-python",
   "name": "python",
   "nbconvert_exporter": "python",
   "pygments_lexer": "ipython3",
   "version": "3.5.2"
  }
 },
 "nbformat": 4,
 "nbformat_minor": 2
}
