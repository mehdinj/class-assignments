{
 "cells": [
  {
   "cell_type": "code",
   "execution_count": 5,
   "metadata": {
    "collapsed": false
   },
   "outputs": [],
   "source": [
    "nature_birds={}\n",
    "ff=open(\"formatted.nature.csv\",\"r\", encoding=\"ISO-8859-15\")\n",
    "\n",
    "ss= ff.readlines()[1:]\n",
    "\n",
    "# ss=ff.readlines()\n",
    "# type(ss)\n",
    "\n",
    "for line in ss:\n",
    "    sp= line.split(\",\")[0]\n",
    "    fam=line.split(\",\")[2]\n",
    "    nature_birds[sp]=fam\n",
    "    \n",
    "    ff.close()\n",
    "\n",
    "    "
   ]
  },
  {
   "cell_type": "code",
   "execution_count": 14,
   "metadata": {
    "collapsed": false
   },
   "outputs": [],
   "source": [
    "def makeBirdDict(filename):\n",
    "    # this function opens the data file from Thomas et al. and extracts the species and families as a dictionary\n",
    "    birdDict={}\n",
    "     \n",
    "    fobj = open (filename,\"r\", encoding=\"ISO-8859-15\" )# open the file\n",
    "    all_records = fobj.readlines()[1:]# read the file\n",
    "    record_elements=[]\n",
    "    for line in all_records:\n",
    "        record_elements=line.split(\",\")\n",
    "        species= record_elements[0]# split lines on comma \n",
    "        families=record_elements[2]\n",
    "        birdDict[species]=families # stick species and family into birdDict\n",
    "    \n",
    "   \n",
    "    return birdDict\n",
    "\n",
    "#makeBirdDict(\"formatted.nature.csv\")\n"
   ]
  },
  {
   "cell_type": "code",
   "execution_count": 40,
   "metadata": {
    "collapsed": false
   },
   "outputs": [
    {
     "name": "stdout",
     "output_type": "stream",
     "text": [
      " \n"
     ]
    }
   ],
   "source": [
    "\n",
    "thomas_birds=makeBirdDict(\"formatted.nature.csv\")\n",
    "species= list(thomas_birds.keys())\n",
    "#sorted(species)[1]\n",
    "species.sort()\n",
    "first_species= species[0]\n",
    "first_fam= thomas_birds[first_species]\n",
    "print(first_species, first_fam)\n",
    "#print( \"family of\"+ speciess[0]+\"is\"+thomas_birds[species])\n",
    "#for species, families in \n"
   ]
  },
  {
   "cell_type": "code",
   "execution_count": 41,
   "metadata": {
    "collapsed": false
   },
   "outputs": [],
   "source": [
    "for species in thomas_birds.keys():\n",
    "    # get the family of the species\n",
    "    fam= thomas_birds[species]\n",
    "   # print(species, fam)"
   ]
  },
  {
   "cell_type": "code",
   "execution_count": 44,
   "metadata": {
    "collapsed": false
   },
   "outputs": [],
   "source": [
    "# for item in thomas_birds.items():\n",
    "#     print(item)"
   ]
  },
  {
   "cell_type": "code",
   "execution_count": 54,
   "metadata": {
    "collapsed": false
   },
   "outputs": [
    {
     "name": "stdout",
     "output_type": "stream",
     "text": [
      "I own 3 dogs\n",
      "I own dog 3s\n",
      "I own 3 dogs\n",
      "I own 10 dogs\n"
     ]
    }
   ],
   "source": [
    "def outoforder(number=3, pet=\"dog\"):\n",
    "    print (\"I own {} {}s\".format(number, pet))\n",
    "    \n",
    "outoforder(3, \"dog\")\n",
    "outoforder(\"dog\", 3)\n",
    "\n",
    "outoforder(pet=\"dog\", number=3)\n",
    "outoforder(number = 10)"
   ]
  },
  {
   "cell_type": "code",
   "execution_count": 55,
   "metadata": {
    "collapsed": true
   },
   "outputs": [],
   "source": [
    "seq= \"ATTTTTAAAGGCC\"\n",
    "def ge_at_content(dna, sig_figs=2):\n",
    "    length= len(dna)\n",
    "    a_count=dna.upper().count(\"A\")\n",
    "    t_count=dna.upper().count(\"T\")\n",
    "    at_content=(a_count+t_count)/length\n",
    "    return(round(at_content, sig_figs))\n",
    "    "
   ]
  },
  {
   "cell_type": "code",
   "execution_count": 58,
   "metadata": {
    "collapsed": false
   },
   "outputs": [
    {
     "data": {
      "text/plain": [
       "0.6923"
      ]
     },
     "execution_count": 58,
     "metadata": {},
     "output_type": "execute_result"
    }
   ],
   "source": [
    "ge_at_content(sig_figs=4, dna=seq)"
   ]
  },
  {
   "cell_type": "code",
   "execution_count": null,
   "metadata": {
    "collapsed": true
   },
   "outputs": [],
   "source": []
  }
 ],
 "metadata": {
  "anaconda-cloud": {},
  "kernelspec": {
   "display_name": "Python [default]",
   "language": "python",
   "name": "python3"
  },
  "language_info": {
   "codemirror_mode": {
    "name": "ipython",
    "version": 3
   },
   "file_extension": ".py",
   "mimetype": "text/x-python",
   "name": "python",
   "nbconvert_exporter": "python",
   "pygments_lexer": "ipython3",
   "version": "3.5.2"
  }
 },
 "nbformat": 4,
 "nbformat_minor": 2
}
