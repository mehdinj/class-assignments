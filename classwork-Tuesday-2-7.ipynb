{
 "cells": [
  {
   "cell_type": "markdown",
   "metadata": {},
   "source": [
    "## Defining a program challenge \n",
    "**Example **: *Write a programm that asks the user for a temperature in Fahrenheit and prints out the same temperature in Celsius*."
   ]
  },
  {
   "cell_type": "markdown",
   "metadata": {},
   "source": [
    "xx = user input of temp in F  \n",
    "yy = convert xx to C  \n",
    "print yy  \n"
   ]
  },
  {
   "cell_type": "code",
   "execution_count": 2,
   "metadata": {
    "collapsed": true
   },
   "outputs": [],
   "source": [
    "?input()"
   ]
  },
  {
   "cell_type": "code",
   "execution_count": 6,
   "metadata": {
    "collapsed": false
   },
   "outputs": [
    {
     "name": "stdout",
     "output_type": "stream",
     "text": [
      "what's your name?Mehdi\n"
     ]
    }
   ],
   "source": [
    "name= input(\"what's your name?\")"
   ]
  },
  {
   "cell_type": "code",
   "execution_count": 7,
   "metadata": {
    "collapsed": false
   },
   "outputs": [
    {
     "data": {
      "text/plain": [
       "5"
      ]
     },
     "execution_count": 7,
     "metadata": {},
     "output_type": "execute_result"
    }
   ],
   "source": [
    "len(name)"
   ]
  },
  {
   "cell_type": "code",
   "execution_count": 12,
   "metadata": {
    "collapsed": false
   },
   "outputs": [
    {
     "name": "stdout",
     "output_type": "stream",
     "text": [
      "what's the temperature in Fahrenheit?212\n",
      "The temperature in C is 100.0\n"
     ]
    }
   ],
   "source": [
    "temp = input (\"what's the temperature in Fahrenheit?\")\n",
    "cels= (float(temp)-32) * 5/9\n",
    "print(\"The temperature in C is {}\".format(cels))\n"
   ]
  },
  {
   "cell_type": "code",
   "execution_count": 54,
   "metadata": {
    "collapsed": false
   },
   "outputs": [
    {
     "name": "stdout",
     "output_type": "stream",
     "text": [
      "8\n",
      "5\n",
      "3\n",
      "2\n",
      "1\n",
      "1\n"
     ]
    },
    {
     "data": {
      "text/plain": [
       "'roshanak'"
      ]
     },
     "execution_count": 54,
     "metadata": {},
     "output_type": "execute_result"
    }
   ],
   "source": [
    "a=[1,1,2,3,5,8]\n",
    "a[4:6]\n",
    "a[4:]\n",
    "a[-2:]\n",
    "a.reverse()\n",
    "\n",
    "for item in a:\n",
    "    print(item)\n",
    "    \n",
    "m={}\n",
    "\n",
    "fam_dict = {\"mother\":\"roshanak\",\"father\":\"sabah\",\"sister\":\"roxana\"}\n",
    "fam_dict [\"mother\"]\n",
    "\n"
   ]
  },
  {
   "cell_type": "code",
   "execution_count": 55,
   "metadata": {
    "collapsed": false
   },
   "outputs": [
    {
     "data": {
      "text/plain": [
       "{'father': 'sabah', 'me': 'mehdi', 'mother': 'roshanak', 'sister': 'roxana'}"
      ]
     },
     "execution_count": 55,
     "metadata": {},
     "output_type": "execute_result"
    }
   ],
   "source": [
    "m={}\n",
    "\n",
    "fam_dict = {\"mother\":\"roshanak\",\"father\":\"sabah\",\"sister\":\"roxana\"}\n",
    "fam_dict [\"mother\"]\n",
    "fam_dict[\"me\"]= \"mehdi\"\n",
    "fam_dict"
   ]
  },
  {
   "cell_type": "code",
   "execution_count": 56,
   "metadata": {
    "collapsed": false
   },
   "outputs": [
    {
     "name": "stdout",
     "output_type": "stream",
     "text": [
      "sabah\n",
      "roxana\n",
      "mehdi\n",
      "roshanak\n"
     ]
    }
   ],
   "source": [
    "for key in fam_dict.keys():\n",
    "    print(fam_dict[key])"
   ]
  },
  {
   "cell_type": "code",
   "execution_count": 62,
   "metadata": {
    "collapsed": false
   },
   "outputs": [
    {
     "name": "stdout",
     "output_type": "stream",
     "text": [
      "father sabah\n",
      "sister roxana\n",
      "me mehdi\n",
      "mother roshanak\n"
     ]
    }
   ],
   "source": [
    "for key, value in fam_dict.items():\n",
    "    print(key, value)\n",
    "    \n"
   ]
  },
  {
   "cell_type": "code",
   "execution_count": 63,
   "metadata": {
    "collapsed": false
   },
   "outputs": [
    {
     "data": {
      "text/plain": [
       "'sabah'"
      ]
     },
     "execution_count": 63,
     "metadata": {},
     "output_type": "execute_result"
    }
   ],
   "source": [
    "list(fam_dict.items())[0][1]"
   ]
  },
  {
   "cell_type": "code",
   "execution_count": 81,
   "metadata": {
    "collapsed": false
   },
   "outputs": [
    {
     "name": "stdout",
     "output_type": "stream",
     "text": [
      "['sister', 'mother', 'me', 'father']\n",
      "roxana\n",
      "roshanak\n",
      "mehdi\n",
      "sabah\n"
     ]
    }
   ],
   "source": [
    "List=[]\n",
    "List=list(fam_dict.keys())\n",
    "List.sort(reverse=True)\n",
    "print(List)\n",
    "for rel in List:\n",
    "    print(fam_dict[rel])\n",
    "    "
   ]
  },
  {
   "cell_type": "code",
   "execution_count": 84,
   "metadata": {
    "collapsed": false
   },
   "outputs": [
    {
     "name": "stdout",
     "output_type": "stream",
     "text": [
      "{'name': 'mehdi', 'age': '24', 'food': 'fesenjoon'}\n"
     ]
    }
   ],
   "source": [
    "keys= (\"name\",\"age\", \"food\")\n",
    "values=(\"mehdi\",\"24\",\"fesenjoon\")\n",
    "dict1=dict(zip(keys,values))\n",
    "print(dict1)"
   ]
  },
  {
   "cell_type": "code",
   "execution_count": 87,
   "metadata": {
    "collapsed": false
   },
   "outputs": [
    {
     "name": "stdout",
     "output_type": "stream",
     "text": [
      "('a', 'b')\n"
     ]
    }
   ],
   "source": [
    "foodweb=((\"a\",\"b\"),(\"a\",\"c\"))\n",
    "foodweb[0]\n",
    "ss=foodweb[0]\n",
    "print(ss)"
   ]
  },
  {
   "cell_type": "code",
   "execution_count": 88,
   "metadata": {
    "collapsed": false
   },
   "outputs": [
    {
     "data": {
      "text/plain": [
       "{5, 6, 7, 8, 9}"
      ]
     },
     "execution_count": 88,
     "metadata": {},
     "output_type": "execute_result"
    }
   ],
   "source": [
    "a= [5,6,7,7,7,8,9,9]\n",
    "set(a)"
   ]
  },
  {
   "cell_type": "code",
   "execution_count": null,
   "metadata": {
    "collapsed": true
   },
   "outputs": [],
   "source": []
  }
 ],
 "metadata": {
  "anaconda-cloud": {},
  "kernelspec": {
   "display_name": "Python [default]",
   "language": "python",
   "name": "python3"
  },
  "language_info": {
   "codemirror_mode": {
    "name": "ipython",
    "version": 3
   },
   "file_extension": ".py",
   "mimetype": "text/x-python",
   "name": "python",
   "nbconvert_exporter": "python",
   "pygments_lexer": "ipython3",
   "version": "3.5.2"
  }
 },
 "nbformat": 4,
 "nbformat_minor": 2
}
